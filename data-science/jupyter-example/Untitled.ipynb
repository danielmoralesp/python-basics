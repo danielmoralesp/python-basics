{
 "cells": [
  {
   "cell_type": "code",
   "execution_count": 5,
   "metadata": {},
   "outputs": [],
   "source": [
    "import pandas as pd"
   ]
  },
  {
   "cell_type": "code",
   "execution_count": 2,
   "metadata": {},
   "outputs": [
    {
     "name": "stdout",
     "output_type": "stream",
     "text": [
      "Collecting pandas\n",
      "  Using cached pandas-0.22.0-cp27-cp27m-macosx_10_6_intel.macosx_10_9_intel.macosx_10_9_x86_64.macosx_10_10_intel.macosx_10_10_x86_64.whl\n",
      "Collecting pytz>=2011k (from pandas)\n",
      "  Using cached pytz-2018.3-py2.py3-none-any.whl\n",
      "Requirement already satisfied: python-dateutil in ./jupyter-example/lib/python2.7/site-packages (from pandas)\n",
      "Collecting numpy>=1.9.0 (from pandas)\n",
      "  Using cached numpy-1.14.1-cp27-cp27m-macosx_10_6_intel.macosx_10_9_intel.macosx_10_9_x86_64.macosx_10_10_intel.macosx_10_10_x86_64.whl\n",
      "Requirement already satisfied: six>=1.5 in ./jupyter-example/lib/python2.7/site-packages (from python-dateutil->pandas)\n",
      "Installing collected packages: pytz, numpy, pandas\n",
      "Successfully installed numpy-1.14.1 pandas-0.22.0 pytz-2018.3\n"
     ]
    }
   ],
   "source": [
    "!pip install pandas"
   ]
  },
  {
   "cell_type": "code",
   "execution_count": 6,
   "metadata": {},
   "outputs": [],
   "source": [
    "%matplotlib inline"
   ]
  },
  {
   "cell_type": "code",
   "execution_count": 4,
   "metadata": {},
   "outputs": [
    {
     "name": "stdout",
     "output_type": "stream",
     "text": [
      "Collecting matplotlib\n",
      "  Downloading matplotlib-2.2.0-cp27-cp27m-macosx_10_6_intel.macosx_10_9_intel.macosx_10_9_x86_64.macosx_10_10_intel.macosx_10_10_x86_64.whl (13.7MB)\n",
      "\u001b[K    100% |████████████████████████████████| 13.7MB 48kB/s eta 0:00:011\n",
      "\u001b[?25hRequirement already satisfied: pytz in ./jupyter-example/lib/python2.7/site-packages (from matplotlib)\n",
      "Requirement already satisfied: six>=1.10 in ./jupyter-example/lib/python2.7/site-packages (from matplotlib)\n",
      "Collecting backports.functools-lru-cache (from matplotlib)\n",
      "  Downloading backports.functools_lru_cache-1.5-py2.py3-none-any.whl\n",
      "Collecting pyparsing!=2.0.4,!=2.1.2,!=2.1.6,>=2.0.1 (from matplotlib)\n",
      "  Downloading pyparsing-2.2.0-py2.py3-none-any.whl (56kB)\n",
      "\u001b[K    100% |████████████████████████████████| 61kB 1.0MB/s ta 0:00:01\n",
      "\u001b[?25hRequirement already satisfied: numpy>=1.7.1 in ./jupyter-example/lib/python2.7/site-packages (from matplotlib)\n",
      "Collecting kiwisolver>=1.0.1 (from matplotlib)\n",
      "  Downloading kiwisolver-1.0.1-cp27-cp27m-macosx_10_6_intel.macosx_10_9_intel.macosx_10_9_x86_64.macosx_10_10_intel.macosx_10_10_x86_64.whl (110kB)\n",
      "\u001b[K    100% |████████████████████████████████| 112kB 1.2MB/s ta 0:00:01\n",
      "\u001b[?25hRequirement already satisfied: python-dateutil>=2.1 in ./jupyter-example/lib/python2.7/site-packages (from matplotlib)\n",
      "Collecting cycler>=0.10 (from matplotlib)\n",
      "  Downloading cycler-0.10.0-py2.py3-none-any.whl\n",
      "Collecting subprocess32 (from matplotlib)\n",
      "  Downloading subprocess32-3.2.7.tar.gz (54kB)\n",
      "\u001b[K    100% |████████████████████████████████| 61kB 1.3MB/s ta 0:00:011\n",
      "\u001b[?25hRequirement already satisfied: setuptools in ./jupyter-example/lib/python2.7/site-packages (from kiwisolver>=1.0.1->matplotlib)\n",
      "Building wheels for collected packages: subprocess32\n",
      "  Running setup.py bdist_wheel for subprocess32 ... \u001b[?25ldone\n",
      "\u001b[?25h  Stored in directory: /Users/danielmorales/Library/Caches/pip/wheels/7d/4c/a4/ce9ceb463dae01f4b95e670abd9afc8d65a45f38012f8030cc\n",
      "Successfully built subprocess32\n",
      "Installing collected packages: backports.functools-lru-cache, pyparsing, kiwisolver, cycler, subprocess32, matplotlib\n",
      "Successfully installed backports.functools-lru-cache-1.5 cycler-0.10.0 kiwisolver-1.0.1 matplotlib-2.2.0 pyparsing-2.2.0 subprocess32-3.2.7\n"
     ]
    }
   ],
   "source": [
    "!pip install matplotlib"
   ]
  },
  {
   "cell_type": "code",
   "execution_count": 8,
   "metadata": {},
   "outputs": [],
   "source": [
    "import numpy as np"
   ]
  },
  {
   "cell_type": "code",
   "execution_count": 9,
   "metadata": {},
   "outputs": [],
   "source": [
    "df = pd.DataFrame({\n",
    "    'a' : np.random.randn(100),\n",
    "    'b' : np.random.randn(100)\n",
    "})"
   ]
  },
  {
   "cell_type": "code",
   "execution_count": 10,
   "metadata": {},
   "outputs": [
    {
     "data": {
      "text/html": [
       "<div>\n",
       "<style scoped>\n",
       "    .dataframe tbody tr th:only-of-type {\n",
       "        vertical-align: middle;\n",
       "    }\n",
       "\n",
       "    .dataframe tbody tr th {\n",
       "        vertical-align: top;\n",
       "    }\n",
       "\n",
       "    .dataframe thead th {\n",
       "        text-align: right;\n",
       "    }\n",
       "</style>\n",
       "<table border=\"1\" class=\"dataframe\">\n",
       "  <thead>\n",
       "    <tr style=\"text-align: right;\">\n",
       "      <th></th>\n",
       "      <th>a</th>\n",
       "      <th>b</th>\n",
       "    </tr>\n",
       "  </thead>\n",
       "  <tbody>\n",
       "    <tr>\n",
       "      <th>0</th>\n",
       "      <td>0.031299</td>\n",
       "      <td>-0.915890</td>\n",
       "    </tr>\n",
       "    <tr>\n",
       "      <th>1</th>\n",
       "      <td>-0.577573</td>\n",
       "      <td>1.106625</td>\n",
       "    </tr>\n",
       "    <tr>\n",
       "      <th>2</th>\n",
       "      <td>-0.434553</td>\n",
       "      <td>2.378576</td>\n",
       "    </tr>\n",
       "    <tr>\n",
       "      <th>3</th>\n",
       "      <td>1.301463</td>\n",
       "      <td>0.795187</td>\n",
       "    </tr>\n",
       "    <tr>\n",
       "      <th>4</th>\n",
       "      <td>0.380796</td>\n",
       "      <td>-0.771281</td>\n",
       "    </tr>\n",
       "  </tbody>\n",
       "</table>\n",
       "</div>"
      ],
      "text/plain": [
       "          a         b\n",
       "0  0.031299 -0.915890\n",
       "1 -0.577573  1.106625\n",
       "2 -0.434553  2.378576\n",
       "3  1.301463  0.795187\n",
       "4  0.380796 -0.771281"
      ]
     },
     "execution_count": 10,
     "metadata": {},
     "output_type": "execute_result"
    }
   ],
   "source": [
    "df.head(5)"
   ]
  },
  {
   "cell_type": "code",
   "execution_count": 11,
   "metadata": {},
   "outputs": [
    {
     "data": {
      "text/plain": [
       "a    float64\n",
       "b    float64\n",
       "dtype: object"
      ]
     },
     "execution_count": 11,
     "metadata": {},
     "output_type": "execute_result"
    }
   ],
   "source": [
    "df.dtypes"
   ]
  },
  {
   "cell_type": "code",
   "execution_count": 13,
   "metadata": {},
   "outputs": [
    {
     "data": {
      "text/plain": [
       "0     0.031299\n",
       "1    -0.577573\n",
       "2    -0.434553\n",
       "3     1.301463\n",
       "4     0.380796\n",
       "5    -1.316352\n",
       "6    -0.222504\n",
       "7    -0.470403\n",
       "8     1.002896\n",
       "9     0.125073\n",
       "10   -0.784379\n",
       "11    0.307949\n",
       "12   -2.184529\n",
       "13    0.497740\n",
       "14   -0.343128\n",
       "15   -0.225203\n",
       "16   -0.367179\n",
       "17   -0.155035\n",
       "18   -0.606265\n",
       "19   -1.765797\n",
       "20   -0.458503\n",
       "21   -1.272961\n",
       "22    0.811437\n",
       "23   -1.821814\n",
       "24   -0.622895\n",
       "25    1.632876\n",
       "26   -1.276129\n",
       "27   -0.731601\n",
       "28   -2.174159\n",
       "29    1.247087\n",
       "        ...   \n",
       "70   -0.198812\n",
       "71   -2.063006\n",
       "72   -1.451172\n",
       "73    2.431518\n",
       "74   -0.143726\n",
       "75    0.368444\n",
       "76   -0.225490\n",
       "77   -0.794270\n",
       "78   -0.007734\n",
       "79    0.689158\n",
       "80    1.087386\n",
       "81    1.033135\n",
       "82    0.402529\n",
       "83   -0.488128\n",
       "84    1.278212\n",
       "85   -0.616188\n",
       "86    2.087152\n",
       "87    1.524233\n",
       "88    1.148447\n",
       "89   -0.502137\n",
       "90    0.915419\n",
       "91   -1.348952\n",
       "92   -1.553296\n",
       "93   -0.565884\n",
       "94    1.070051\n",
       "95   -0.252773\n",
       "96   -1.660248\n",
       "97    0.888438\n",
       "98   -0.072606\n",
       "99   -0.346283\n",
       "Name: a, Length: 100, dtype: float64"
      ]
     },
     "execution_count": 13,
     "metadata": {},
     "output_type": "execute_result"
    }
   ],
   "source": [
    "df['a']"
   ]
  },
  {
   "cell_type": "code",
   "execution_count": 14,
   "metadata": {},
   "outputs": [
    {
     "data": {
      "text/plain": [
       "<matplotlib.axes._subplots.AxesSubplot at 0x107a69d50>"
      ]
     },
     "execution_count": 14,
     "metadata": {},
     "output_type": "execute_result"
    },
    {
     "data": {
      "image/png": "[encoded data removed]",
      "text/plain": [
       "<Figure size 432x288 with 1 Axes>"
      ]
     },
     "metadata": {},
     "output_type": "display_data"
    }
   ],
   "source": [
    "df['a'].hist()"
   ]
  },
  {
   "cell_type": "code",
   "execution_count": null,
   "metadata": {},
   "outputs": [],
   "source": []
  }
 ],
 "metadata": {
  "kernelspec": {
   "display_name": "Python 2",
   "language": "python",
   "name": "python2"
  },
  "language_info": {
   "codemirror_mode": {
    "name": "ipython",
    "version": 2
   },
   "file_extension": ".py",
   "mimetype": "text/x-python",
   "name": "python",
   "nbconvert_exporter": "python",
   "pygments_lexer": "ipython2",
   "version": "2.7.10"
  }
 },
 "nbformat": 4,
 "nbformat_minor": 2
}
